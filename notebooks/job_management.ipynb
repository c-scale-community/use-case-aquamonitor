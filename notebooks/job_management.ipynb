{
 "cells": [
  {
   "cell_type": "markdown",
   "id": "7a783dbe-b848-4bdb-90dc-1c96bc8d9006",
   "metadata": {},
   "source": [
    "# Job Management\n",
    "Notebook for managing API calls to the backend to manage asynchrounous jobs and check logs without polluting the main notebook\n",
    "\n",
    "First we open a connection"
   ]
  },
  {
   "cell_type": "code",
   "execution_count": 17,
   "id": "8f4c01f1-00dd-48c3-96e6-8992ad49ca60",
   "metadata": {},
   "outputs": [
    {
     "name": "stdout",
     "output_type": "stream",
     "text": [
      "Authenticated using refresh token.\n"
     ]
    },
    {
     "data": {
      "text/plain": [
       "<Connection to 'https://openeo.vito.be/openeo/1.0' with OidcBearerAuth>"
      ]
     },
     "execution_count": 17,
     "metadata": {},
     "output_type": "execute_result"
    }
   ],
   "source": [
    "from openeo import connect, Connection\n",
    "from openeo.rest.job import BatchJob\n",
    "\n",
    "# Connect to VITO backend\n",
    "vito_url: str = \"https://openeo.vito.be/openeo/1.0\"\n",
    "vito_creo_url: str = \"https://openeo.creo.vito.be\"\n",
    "vito_dev_url: str = \"https://openeo-dev.vito.be/openeo/1.0/\"\n",
    "ee_url: str = \"https://earthengine.openeo.org\"\n",
    "openeo_platform: str = \"openeo.cloud\"\n",
    "\n",
    "# con: Connection = connect(ee_url).authenticate_basic(username=\"group1\", password=\"test123\")\n",
    "con: Connection = connect(vito_url)\n",
    "con.authenticate_oidc(provider_id=\"egi\")"
   ]
  },
  {
   "cell_type": "markdown",
   "id": "8cd0625f-51dc-4853-8d96-dd73491dca5e",
   "metadata": {},
   "source": [
    "List all running jobs"
   ]
  },
  {
   "cell_type": "code",
   "execution_count": 18,
   "id": "7a0fae45-a03b-4641-9ebe-078811aa10eb",
   "metadata": {},
   "outputs": [
    {
     "data": {
      "text/html": [
       "\n",
       "    <script>\n",
       "    if (!window.customElements || !window.customElements.get('openeo-data-table')) {\n",
       "        var el = document.createElement('script');\n",
       "        el.src = \"https://cdn.jsdelivr.net/npm/@openeo/vue-components@2/assets/openeo.min.js\";\n",
       "        document.head.appendChild(el);\n",
       "\n",
       "        var font = document.createElement('font');\n",
       "        font.as = \"font\";\n",
       "        font.type = \"font/woff2\";\n",
       "        font.crossOrigin = true;\n",
       "        font.href = \"https://use.fontawesome.com/releases/v5.13.0/webfonts/fa-solid-900.woff2\"\n",
       "        document.head.appendChild(font);\n",
       "    }\n",
       "    </script>\n",
       "    <openeo-data-table>\n",
       "        <script type=\"application/json\">{\"columns\": {\"id\": {\"name\": \"ID\", \"primaryKey\": true}, \"title\": {\"name\": \"Title\"}, \"status\": {\"name\": \"Status\"}, \"created\": {\"name\": \"Submitted\", \"format\": \"Timestamp\", \"sort\": \"desc\"}, \"updated\": {\"name\": \"Last update\", \"format\": \"Timestamp\"}}, \"data\": [{\"created\": \"2022-08-02T12:46:33Z\", \"description\": \"merging water occurrence.\", \"id\": \"j-0b80545f29df49a0b777ac196f3d2881\", \"status\": \"finished\", \"title\": \"merging_wo\", \"updated\": \"2022-08-02T12:47:01Z\"}, {\"created\": \"2022-08-08T07:15:09Z\", \"description\": \"get timestamps for aggregate workaround\", \"id\": \"j-e90f0fd51c3b473cb79184273ed224c3\", \"status\": \"finished\", \"title\": \"get_timestamps\", \"updated\": \"2022-08-08T07:15:35Z\"}, {\"created\": \"2022-08-09T10:32:29Z\", \"id\": \"j-daeae9152ef941389c66729f0c93ad02\", \"status\": \"finished\", \"title\": \"get_collection\", \"updated\": \"2022-08-09T10:33:02Z\"}, {\"created\": \"2022-08-05T14:22:10Z\", \"description\": \"merging water occurrence.\", \"id\": \"j-a07f673123974f6e8cc2c1a7263e4cf5\", \"status\": \"finished\", \"title\": \"merging_wo\", \"updated\": \"2022-08-05T14:22:39Z\"}, {\"created\": \"2022-08-05T12:47:39Z\", \"description\": \"get filtered datacube\", \"id\": \"j-41641109c6d14ad2bc4b6ea9bcb00654\", \"status\": \"finished\", \"title\": \"get_filtered_data\", \"updated\": \"2022-08-05T12:48:07Z\"}, {\"created\": \"2022-08-09T11:37:33Z\", \"id\": \"j-2e1e0cb753064cff84e9ba4de8a6fe9d\", \"status\": \"finished\", \"title\": \"t_bucketing_aquamonitor\", \"updated\": \"2022-08-09T11:38:04Z\"}, {\"created\": \"2022-08-08T05:50:21Z\", \"description\": \"merging water occurrence.\", \"id\": \"j-bce93fcc8ced4790b4a911e5063da655\", \"status\": \"finished\", \"title\": \"merging_wo\", \"updated\": \"2022-08-08T05:50:54Z\"}, {\"created\": \"2022-08-03T15:00:52Z\", \"description\": \"download mndwi merge cube\", \"id\": \"j-1d85ae7ed2714f2986288c84c98c9df9\", \"status\": \"finished\", \"title\": \"mndwi_merging\", \"updated\": \"2022-08-03T15:01:22Z\"}, {\"created\": \"2022-08-04T10:53:56Z\", \"description\": \"get timestamps for aggregate workaround\", \"id\": \"j-06cae686f08649df868ddd71146f943b\", \"status\": \"finished\", \"title\": \"get_timestamps\", \"updated\": \"2022-08-04T10:54:22Z\"}, {\"created\": \"2022-08-08T07:56:18Z\", \"description\": \"merging water occurrence.\", \"id\": \"j-1d198f7edf734aa8ad682eee6a83cfa5\", \"status\": \"finished\", \"title\": \"merging_wo\", \"updated\": \"2022-08-08T07:56:45Z\"}, {\"created\": \"2022-08-09T10:17:42Z\", \"id\": \"j-fdb2ccd0573f4055929a7b7998d105c8\", \"status\": \"finished\", \"title\": \"get_collection\", \"updated\": \"2022-08-09T10:18:07Z\"}, {\"created\": \"2022-08-03T10:03:33Z\", \"description\": \"get filtered datacube\", \"id\": \"j-f2e1fa421c1c4513814108cfa403f131\", \"status\": \"finished\", \"title\": \"get_filtered_data\", \"updated\": \"2022-08-03T10:03:58Z\"}, {\"created\": \"2022-08-09T09:34:54Z\", \"id\": \"j-2e3f32c029294252b987940cfe281f29\", \"status\": \"finished\", \"title\": \"get_collection\", \"updated\": \"2022-08-09T10:10:28Z\"}, {\"created\": \"2022-08-03T14:15:14Z\", \"description\": \"test_quality_score\", \"id\": \"j-321964f25405430385e9fff42e60fae1\", \"status\": \"finished\", \"title\": \"quality_score\", \"updated\": \"2022-08-03T14:15:44Z\"}, {\"created\": \"2022-08-02T12:28:07Z\", \"description\": \"download mndwi merge cube\", \"id\": \"j-1c6fa58cf310491a8fc8cce9474046f1\", \"status\": \"finished\", \"title\": \"mndwi_merging\", \"updated\": \"2022-08-02T12:28:38Z\"}, {\"created\": \"2022-08-02T11:14:48Z\", \"description\": \"download water occurrence merge cube\", \"id\": \"j-3efd86a1a20947f59eff35ae1a566838\", \"status\": \"finished\", \"title\": \"dl_merging_wo\", \"updated\": \"2022-08-02T11:15:19Z\"}, {\"created\": \"2022-08-03T14:45:17Z\", \"description\": \"merging water occurrence.\", \"id\": \"j-6b1ca1cfba3d4e36a5a3d2748f6c3426\", \"status\": \"finished\", \"title\": \"merging_wo\", \"updated\": \"2022-08-03T14:45:54Z\"}, {\"created\": \"2022-08-08T11:49:25Z\", \"description\": \"merging water occurrence.\", \"id\": \"j-c6245148cf324b1f856b4ed12ad3dc28\", \"status\": \"finished\", \"title\": \"merging_wo\", \"updated\": \"2022-08-08T11:49:58Z\"}, {\"created\": \"2022-08-02T10:56:24Z\", \"description\": \"get timestamps for aggregate workaround\", \"id\": \"j-f2190ef194994f3bb228f7b469cd5d54\", \"status\": \"finished\", \"title\": \"get_timestamps\", \"updated\": \"2022-08-02T10:56:56Z\"}, {\"created\": \"2022-08-03T12:44:12Z\", \"description\": \"get filtered datacube\", \"id\": \"j-2123f903badb407fab58e6477bc62686\", \"status\": \"finished\", \"title\": \"get_filtered_data\", \"updated\": \"2022-08-03T12:44:42Z\"}, {\"created\": \"2022-08-03T10:15:57Z\", \"description\": \"get filtered datacube\", \"id\": \"j-7f5b01fc9a394b0e84b8d7668a26427a\", \"status\": \"finished\", \"title\": \"get_filtered_data\", \"updated\": \"2022-08-03T10:16:26Z\"}, {\"created\": \"2022-08-03T13:56:04Z\", \"description\": \"test_quality_score\", \"id\": \"j-d14c84d849cc44ca9f2a85bb25b0d91b\", \"status\": \"finished\", \"title\": \"quality_score\", \"updated\": \"2022-08-03T13:56:29Z\"}, {\"created\": \"2022-08-09T11:59:49Z\", \"id\": \"j-91179bc8a89245069444563e8141828d\", \"status\": \"finished\", \"title\": \"counting_buckets_aquamonitor\", \"updated\": \"2022-08-09T12:00:16Z\"}, {\"created\": \"2022-08-09T13:39:49Z\", \"id\": \"j-c179cd05b932494cb70c0fe55b800903\", \"status\": \"finished\", \"title\": \"mndwi_calculation\", \"updated\": \"2022-08-09T13:40:19Z\"}, {\"created\": \"2022-08-05T14:41:57Z\", \"description\": \"download water occurrence merge cube\", \"id\": \"j-7975a008eaf74b4aa9a7dc0c2eab160a\", \"status\": \"finished\", \"title\": \"dl_merging_wo\", \"updated\": \"2022-08-05T14:42:26Z\"}, {\"created\": \"2022-08-04T10:54:21Z\", \"description\": \"get timestamps for aggregate workaround\", \"id\": \"j-a7ba2088fbc14cf4a39d9d8861858c82\", \"status\": \"finished\", \"title\": \"get_timestamps\", \"updated\": \"2022-08-04T10:54:53Z\"}, {\"created\": \"2022-08-02T13:16:27Z\", \"description\": \"download water occurrence merge cube\", \"id\": \"j-8ede393137184c668f738f3b0faef7a6\", \"status\": \"finished\", \"title\": \"dl_merging_wo\", \"updated\": \"2022-08-02T13:16:58Z\"}, {\"created\": \"2022-08-05T13:57:03Z\", \"description\": \"test_quality_score\", \"id\": \"j-aa1d35202dfb48af88f2f2aafb3903e2\", \"status\": \"finished\", \"title\": \"quality_score\", \"updated\": \"2022-08-05T13:57:34Z\"}, {\"created\": \"2022-08-05T14:42:26Z\", \"description\": \"merging water occurrence.\", \"id\": \"j-f56481cddbc14b16805602f6c2eddf69\", \"status\": \"finished\", \"title\": \"merging_wo\", \"updated\": \"2022-08-05T14:42:59Z\"}, {\"created\": \"2022-08-05T15:20:38Z\", \"description\": \"merging water occurrence.\", \"id\": \"j-59e94e08b72f496681a3f314dee2e56c\", \"status\": \"finished\", \"title\": \"merging_wo\", \"updated\": \"2022-08-05T15:21:11Z\"}, {\"created\": \"2022-08-04T11:15:15Z\", \"description\": \"merging water occurrence.\", \"id\": \"j-c0f5d2d04c02425dba69e782ebf62aef\", \"status\": \"finished\", \"title\": \"merging_wo\", \"updated\": \"2022-08-04T11:15:45Z\"}, {\"created\": \"2022-08-08T13:29:55Z\", \"id\": \"j-f7efd091f8994ee5a47dda6454643025\", \"status\": \"running\", \"title\": \"get_collection\", \"updated\": \"2022-08-09T10:10:47Z\"}, {\"created\": \"2022-08-09T08:27:03Z\", \"id\": \"j-450f4d0ab2bd4f24bf148c2b75e07f54\", \"status\": \"running\", \"title\": \"get_collection\", \"updated\": \"2022-08-09T10:10:38Z\"}, {\"created\": \"2022-08-03T13:55:15Z\", \"description\": \"test_quality_score\", \"id\": \"j-d1f2ec9dd5ae457590f17d6119217786\", \"status\": \"created\", \"title\": \"quality_score\"}, {\"created\": \"2022-08-08T13:29:54Z\", \"id\": \"j-bdb70723736c435598e43022c6e67882\", \"status\": \"created\", \"title\": \"get_collection\"}]}</script>\n",
       "    </openeo-data-table>\n",
       "    "
      ],
      "text/plain": [
       "[{'created': '2022-08-02T12:46:33Z',\n",
       "  'description': 'merging water occurrence.',\n",
       "  'id': 'j-0b80545f29df49a0b777ac196f3d2881',\n",
       "  'status': 'finished',\n",
       "  'title': 'merging_wo',\n",
       "  'updated': '2022-08-02T12:47:01Z'},\n",
       " {'created': '2022-08-08T07:15:09Z',\n",
       "  'description': 'get timestamps for aggregate workaround',\n",
       "  'id': 'j-e90f0fd51c3b473cb79184273ed224c3',\n",
       "  'status': 'finished',\n",
       "  'title': 'get_timestamps',\n",
       "  'updated': '2022-08-08T07:15:35Z'},\n",
       " {'created': '2022-08-09T10:32:29Z',\n",
       "  'id': 'j-daeae9152ef941389c66729f0c93ad02',\n",
       "  'status': 'finished',\n",
       "  'title': 'get_collection',\n",
       "  'updated': '2022-08-09T10:33:02Z'},\n",
       " {'created': '2022-08-05T14:22:10Z',\n",
       "  'description': 'merging water occurrence.',\n",
       "  'id': 'j-a07f673123974f6e8cc2c1a7263e4cf5',\n",
       "  'status': 'finished',\n",
       "  'title': 'merging_wo',\n",
       "  'updated': '2022-08-05T14:22:39Z'},\n",
       " {'created': '2022-08-05T12:47:39Z',\n",
       "  'description': 'get filtered datacube',\n",
       "  'id': 'j-41641109c6d14ad2bc4b6ea9bcb00654',\n",
       "  'status': 'finished',\n",
       "  'title': 'get_filtered_data',\n",
       "  'updated': '2022-08-05T12:48:07Z'},\n",
       " {'created': '2022-08-09T11:37:33Z',\n",
       "  'id': 'j-2e1e0cb753064cff84e9ba4de8a6fe9d',\n",
       "  'status': 'finished',\n",
       "  'title': 't_bucketing_aquamonitor',\n",
       "  'updated': '2022-08-09T11:38:04Z'},\n",
       " {'created': '2022-08-08T05:50:21Z',\n",
       "  'description': 'merging water occurrence.',\n",
       "  'id': 'j-bce93fcc8ced4790b4a911e5063da655',\n",
       "  'status': 'finished',\n",
       "  'title': 'merging_wo',\n",
       "  'updated': '2022-08-08T05:50:54Z'},\n",
       " {'created': '2022-08-03T15:00:52Z',\n",
       "  'description': 'download mndwi merge cube',\n",
       "  'id': 'j-1d85ae7ed2714f2986288c84c98c9df9',\n",
       "  'status': 'finished',\n",
       "  'title': 'mndwi_merging',\n",
       "  'updated': '2022-08-03T15:01:22Z'},\n",
       " {'created': '2022-08-04T10:53:56Z',\n",
       "  'description': 'get timestamps for aggregate workaround',\n",
       "  'id': 'j-06cae686f08649df868ddd71146f943b',\n",
       "  'status': 'finished',\n",
       "  'title': 'get_timestamps',\n",
       "  'updated': '2022-08-04T10:54:22Z'},\n",
       " {'created': '2022-08-08T07:56:18Z',\n",
       "  'description': 'merging water occurrence.',\n",
       "  'id': 'j-1d198f7edf734aa8ad682eee6a83cfa5',\n",
       "  'status': 'finished',\n",
       "  'title': 'merging_wo',\n",
       "  'updated': '2022-08-08T07:56:45Z'},\n",
       " {'created': '2022-08-09T10:17:42Z',\n",
       "  'id': 'j-fdb2ccd0573f4055929a7b7998d105c8',\n",
       "  'status': 'finished',\n",
       "  'title': 'get_collection',\n",
       "  'updated': '2022-08-09T10:18:07Z'},\n",
       " {'created': '2022-08-03T10:03:33Z',\n",
       "  'description': 'get filtered datacube',\n",
       "  'id': 'j-f2e1fa421c1c4513814108cfa403f131',\n",
       "  'status': 'finished',\n",
       "  'title': 'get_filtered_data',\n",
       "  'updated': '2022-08-03T10:03:58Z'},\n",
       " {'created': '2022-08-09T09:34:54Z',\n",
       "  'id': 'j-2e3f32c029294252b987940cfe281f29',\n",
       "  'status': 'finished',\n",
       "  'title': 'get_collection',\n",
       "  'updated': '2022-08-09T10:10:28Z'},\n",
       " {'created': '2022-08-03T14:15:14Z',\n",
       "  'description': 'test_quality_score',\n",
       "  'id': 'j-321964f25405430385e9fff42e60fae1',\n",
       "  'status': 'finished',\n",
       "  'title': 'quality_score',\n",
       "  'updated': '2022-08-03T14:15:44Z'},\n",
       " {'created': '2022-08-02T12:28:07Z',\n",
       "  'description': 'download mndwi merge cube',\n",
       "  'id': 'j-1c6fa58cf310491a8fc8cce9474046f1',\n",
       "  'status': 'finished',\n",
       "  'title': 'mndwi_merging',\n",
       "  'updated': '2022-08-02T12:28:38Z'},\n",
       " {'created': '2022-08-02T11:14:48Z',\n",
       "  'description': 'download water occurrence merge cube',\n",
       "  'id': 'j-3efd86a1a20947f59eff35ae1a566838',\n",
       "  'status': 'finished',\n",
       "  'title': 'dl_merging_wo',\n",
       "  'updated': '2022-08-02T11:15:19Z'},\n",
       " {'created': '2022-08-03T14:45:17Z',\n",
       "  'description': 'merging water occurrence.',\n",
       "  'id': 'j-6b1ca1cfba3d4e36a5a3d2748f6c3426',\n",
       "  'status': 'finished',\n",
       "  'title': 'merging_wo',\n",
       "  'updated': '2022-08-03T14:45:54Z'},\n",
       " {'created': '2022-08-08T11:49:25Z',\n",
       "  'description': 'merging water occurrence.',\n",
       "  'id': 'j-c6245148cf324b1f856b4ed12ad3dc28',\n",
       "  'status': 'finished',\n",
       "  'title': 'merging_wo',\n",
       "  'updated': '2022-08-08T11:49:58Z'},\n",
       " {'created': '2022-08-02T10:56:24Z',\n",
       "  'description': 'get timestamps for aggregate workaround',\n",
       "  'id': 'j-f2190ef194994f3bb228f7b469cd5d54',\n",
       "  'status': 'finished',\n",
       "  'title': 'get_timestamps',\n",
       "  'updated': '2022-08-02T10:56:56Z'},\n",
       " {'created': '2022-08-03T12:44:12Z',\n",
       "  'description': 'get filtered datacube',\n",
       "  'id': 'j-2123f903badb407fab58e6477bc62686',\n",
       "  'status': 'finished',\n",
       "  'title': 'get_filtered_data',\n",
       "  'updated': '2022-08-03T12:44:42Z'},\n",
       " {'created': '2022-08-03T10:15:57Z',\n",
       "  'description': 'get filtered datacube',\n",
       "  'id': 'j-7f5b01fc9a394b0e84b8d7668a26427a',\n",
       "  'status': 'finished',\n",
       "  'title': 'get_filtered_data',\n",
       "  'updated': '2022-08-03T10:16:26Z'},\n",
       " {'created': '2022-08-03T13:56:04Z',\n",
       "  'description': 'test_quality_score',\n",
       "  'id': 'j-d14c84d849cc44ca9f2a85bb25b0d91b',\n",
       "  'status': 'finished',\n",
       "  'title': 'quality_score',\n",
       "  'updated': '2022-08-03T13:56:29Z'},\n",
       " {'created': '2022-08-09T11:59:49Z',\n",
       "  'id': 'j-91179bc8a89245069444563e8141828d',\n",
       "  'status': 'finished',\n",
       "  'title': 'counting_buckets_aquamonitor',\n",
       "  'updated': '2022-08-09T12:00:16Z'},\n",
       " {'created': '2022-08-09T13:39:49Z',\n",
       "  'id': 'j-c179cd05b932494cb70c0fe55b800903',\n",
       "  'status': 'finished',\n",
       "  'title': 'mndwi_calculation',\n",
       "  'updated': '2022-08-09T13:40:19Z'},\n",
       " {'created': '2022-08-05T14:41:57Z',\n",
       "  'description': 'download water occurrence merge cube',\n",
       "  'id': 'j-7975a008eaf74b4aa9a7dc0c2eab160a',\n",
       "  'status': 'finished',\n",
       "  'title': 'dl_merging_wo',\n",
       "  'updated': '2022-08-05T14:42:26Z'},\n",
       " {'created': '2022-08-04T10:54:21Z',\n",
       "  'description': 'get timestamps for aggregate workaround',\n",
       "  'id': 'j-a7ba2088fbc14cf4a39d9d8861858c82',\n",
       "  'status': 'finished',\n",
       "  'title': 'get_timestamps',\n",
       "  'updated': '2022-08-04T10:54:53Z'},\n",
       " {'created': '2022-08-02T13:16:27Z',\n",
       "  'description': 'download water occurrence merge cube',\n",
       "  'id': 'j-8ede393137184c668f738f3b0faef7a6',\n",
       "  'status': 'finished',\n",
       "  'title': 'dl_merging_wo',\n",
       "  'updated': '2022-08-02T13:16:58Z'},\n",
       " {'created': '2022-08-05T13:57:03Z',\n",
       "  'description': 'test_quality_score',\n",
       "  'id': 'j-aa1d35202dfb48af88f2f2aafb3903e2',\n",
       "  'status': 'finished',\n",
       "  'title': 'quality_score',\n",
       "  'updated': '2022-08-05T13:57:34Z'},\n",
       " {'created': '2022-08-05T14:42:26Z',\n",
       "  'description': 'merging water occurrence.',\n",
       "  'id': 'j-f56481cddbc14b16805602f6c2eddf69',\n",
       "  'status': 'finished',\n",
       "  'title': 'merging_wo',\n",
       "  'updated': '2022-08-05T14:42:59Z'},\n",
       " {'created': '2022-08-05T15:20:38Z',\n",
       "  'description': 'merging water occurrence.',\n",
       "  'id': 'j-59e94e08b72f496681a3f314dee2e56c',\n",
       "  'status': 'finished',\n",
       "  'title': 'merging_wo',\n",
       "  'updated': '2022-08-05T15:21:11Z'},\n",
       " {'created': '2022-08-04T11:15:15Z',\n",
       "  'description': 'merging water occurrence.',\n",
       "  'id': 'j-c0f5d2d04c02425dba69e782ebf62aef',\n",
       "  'status': 'finished',\n",
       "  'title': 'merging_wo',\n",
       "  'updated': '2022-08-04T11:15:45Z'},\n",
       " {'created': '2022-08-08T13:29:55Z',\n",
       "  'id': 'j-f7efd091f8994ee5a47dda6454643025',\n",
       "  'status': 'running',\n",
       "  'title': 'get_collection',\n",
       "  'updated': '2022-08-09T10:10:47Z'},\n",
       " {'created': '2022-08-09T08:27:03Z',\n",
       "  'id': 'j-450f4d0ab2bd4f24bf148c2b75e07f54',\n",
       "  'status': 'running',\n",
       "  'title': 'get_collection',\n",
       "  'updated': '2022-08-09T10:10:38Z'},\n",
       " {'created': '2022-08-03T13:55:15Z',\n",
       "  'description': 'test_quality_score',\n",
       "  'id': 'j-d1f2ec9dd5ae457590f17d6119217786',\n",
       "  'status': 'created',\n",
       "  'title': 'quality_score'},\n",
       " {'created': '2022-08-08T13:29:54Z',\n",
       "  'id': 'j-bdb70723736c435598e43022c6e67882',\n",
       "  'status': 'created',\n",
       "  'title': 'get_collection'}]"
      ]
     },
     "execution_count": 18,
     "metadata": {},
     "output_type": "execute_result"
    }
   ],
   "source": [
    "jobs = con.list_jobs()\n",
    "jobs"
   ]
  },
  {
   "cell_type": "markdown",
   "id": "5dbb7949-8ed2-44e9-b1b4-8a6202549f5a",
   "metadata": {},
   "source": [
    "Get target job and check the logs"
   ]
  },
  {
   "cell_type": "code",
   "execution_count": 15,
   "id": "460c2c11-e3a7-49ab-b696-2435a6007e85",
   "metadata": {},
   "outputs": [],
   "source": [
    "job = BatchJob(\"j-bdb70723736c435598e43022c6e67882\", connection=con)\n",
    "job.stop_job()"
   ]
  },
  {
   "cell_type": "markdown",
   "id": "47b1cb38-3156-46ad-b649-77433038886a",
   "metadata": {},
   "source": [
    "## Using CachedJob"
   ]
  },
  {
   "cell_type": "code",
   "execution_count": 5,
   "id": "bdd3bce5-2781-4414-8447-8fe8f00ccca4",
   "metadata": {},
   "outputs": [
    {
     "name": "stdout",
     "output_type": "stream",
     "text": [
      "{'test_cached_job': 'vito-23512e69-5f56-4f87-aa71-5d7d57874fe4'}\n"
     ]
    }
   ],
   "source": [
    "from json import load\n",
    "from pathlib import Path\n",
    "\n",
    "\n",
    "with open(Path.cwd() / \"output\" / \"job_cache.json\") as f:\n",
    "    print(load(f))"
   ]
  },
  {
   "cell_type": "code",
   "execution_count": 6,
   "id": "e39ec5e9-321f-4d38-be05-8ff905bd8400",
   "metadata": {},
   "outputs": [],
   "source": [
    "from cached_job import CachedJob\n",
    "\n",
    "cachedjob = CachedJob(\n",
    "    job_title=\"t_bucketing_aquamonitor\",\n",
    "    local_cache_file=Path.cwd() / \"output\" / \"job_cache.json\",\n",
    "    job_id=\"vito-6b3da423-5bc5-40f6-a0e7-3dd5a77b9565\",\n",
    "    connection=con\n",
    ")"
   ]
  },
  {
   "cell_type": "code",
   "execution_count": 7,
   "id": "0e2a393e-b596-432a-9e40-5808b5c28042",
   "metadata": {},
   "outputs": [],
   "source": [
    "cachedjob.save()"
   ]
  }
 ],
 "metadata": {
  "kernelspec": {
   "display_name": "Python 3 (ipykernel)",
   "language": "python",
   "name": "python3"
  },
  "language_info": {
   "codemirror_mode": {
    "name": "ipython",
    "version": 3
   },
   "file_extension": ".py",
   "mimetype": "text/x-python",
   "name": "python",
   "nbconvert_exporter": "python",
   "pygments_lexer": "ipython3",
   "version": "3.9.7"
  }
 },
 "nbformat": 4,
 "nbformat_minor": 5
}
