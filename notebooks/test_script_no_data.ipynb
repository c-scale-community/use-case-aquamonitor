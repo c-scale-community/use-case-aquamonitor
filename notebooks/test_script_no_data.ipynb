{
 "cells": [
  {
   "cell_type": "code",
   "execution_count": 1,
   "metadata": {},
   "outputs": [],
   "source": [
    "# imports\n",
    "from openeo import connect, Connection\n",
    "from openeo.rest.datacube import DataCube\n",
    "from typing import List, Dict, Tuple, Union\n",
    "import pathlib\n",
    "import rasterio\n",
    "import numpy as np\n",
    "import matplotlib.pyplot as plt\n",
    "import xarray as xr\n",
    "\n",
    "%matplotlib inline"
   ]
  },
  {
   "cell_type": "code",
   "execution_count": 2,
   "metadata": {},
   "outputs": [],
   "source": [
    "DEFAULT_FIGSIZE = (9, 6)\n",
    "\n",
    "def show_tiff(filename:str, figsize=DEFAULT_FIGSIZE, vmin=None, vmax=None, rescale_percentile=97, add_colorbar=False):\n",
    "    \"\"\"Small helper to load a geotiff and visualize it\"\"\"\n",
    "    with rasterio.open(filename) as ds:\n",
    "        data = ds.read()\n",
    "\n",
    "    fig, ax = plt.subplots(figsize=figsize)\n",
    "\n",
    "    if len(data.shape) == 3:\n",
    "        if data.max() > 500:\n",
    "            p = np.percentile(data, rescale_percentile, axis=[1,2])\n",
    "            data = data / p[:, None, None]\n",
    "            data = np.clip(data, 0, 1)        \n",
    "        data = np.moveaxis(data, 0, 2)\n",
    "        if data.shape[2]<3:\n",
    "            data = data[:,:,0]\n",
    "        \n",
    "    im = ax.imshow(data, vmin=vmin, vmax=vmax,cmap=\"RdYlGn\")\n",
    "    if add_colorbar:\n",
    "        fig.colorbar(im, ax=ax, fraction=0.05)\n",
    "\n",
    "out_dir = pathlib.Path(\"output\")\n",
    "out_dir.mkdir(parents=True, exist_ok=True)"
   ]
  },
  {
   "cell_type": "code",
   "execution_count": 3,
   "metadata": {},
   "outputs": [
    {
     "name": "stdout",
     "output_type": "stream",
     "text": [
      "To authenticate: visit https://aai.egi.eu/oidc/device and enter the user code 'Qpav6d'.\n",
      "Authorized successfully.\n",
      "Authenticated using device code flow.\n"
     ]
    }
   ],
   "source": [
    "# Connect to VITO backend\n",
    "vito_url: str = \"https://openeo.vito.be/openeo/1.0\"\n",
    "vito_creo_url: str = \"https://openeo.creo.vito.be\"\n",
    "ee_url: str = \"https://earthengine.openeo.org\"\n",
    "incd_url: str = \"http://openeo1.a.incd.pt/openeo/1.1.0/\"\n",
    "\n",
    "# con: Connection = connect(ee_url).authenticate_basic(username=\"group1\", password=\"test123\")\n",
    "# con: Connection = connect(vito_creo_url)\n",
    "# con.authenticate_oidc(provider_id=\"egi\")\n",
    "con: Connection = connect(incd_url).authenticate_oidc(provider_id=\"egi\")"
   ]
  },
  {
   "cell_type": "code",
   "execution_count": 4,
   "metadata": {},
   "outputs": [
    {
     "name": "stderr",
     "output_type": "stream",
     "text": [
      "/opt/conda/lib/python3.9/site-packages/openeo/metadata.py:244: UserWarning: No cube:dimensions metadata\n",
      "  complain(\"No cube:dimensions metadata\")\n"
     ]
    },
    {
     "data": {
      "text/plain": [
       "4.5"
      ]
     },
     "execution_count": 4,
     "metadata": {},
     "output_type": "execute_result"
    }
   ],
   "source": [
    "cube: DataCube = con.datacube_from_process(\"mean\", data=[2, 3, 5, 8])\n",
    "cube.execute()"
   ]
  },
  {
   "cell_type": "code",
   "execution_count": 5,
   "metadata": {},
   "outputs": [
    {
     "data": {
      "text/html": [
       "\n",
       "    <script>\n",
       "    if (!window.customElements || !window.customElements.get('openeo-collections')) {\n",
       "        var el = document.createElement('script');\n",
       "        el.src = \"https://cdn.jsdelivr.net/npm/@openeo/vue-components@2/assets/openeo.min.js\";\n",
       "        document.head.appendChild(el);\n",
       "\n",
       "        var font = document.createElement('font');\n",
       "        font.as = \"font\";\n",
       "        font.type = \"font/woff2\";\n",
       "        font.crossOrigin = true;\n",
       "        font.href = \"https://use.fontawesome.com/releases/v5.13.0/webfonts/fa-solid-900.woff2\"\n",
       "        document.head.appendChild(font);\n",
       "    }\n",
       "    </script>\n",
       "    <openeo-collections>\n",
       "        <script type=\"application/json\">{\"mapOptions\": {}, \"collections\": [{\"description\": \"SENTINEL-2 is a wide-swath, high-resolution, multi-spectral imaging mission, supporting Copernicus Land Monitoring studies, including the monitoring of vegetation, soil and water cover, as well as observation of inland waterways and coastal areas. The SENTINEL-2 Multispectral Instrument (MSI) samples 13 spectral bands: four bands at 10 metres, six bands at 20 metres and three bands at 60 metres spatial resolution.\", \"extent\": {\"spatial\": {\"bbox\": [[-180, -90, 180, 90]]}, \"temporal\": {\"interval\": [[\"2015-07-04T00:00:00Z\", null]]}}, \"id\": \"SENTINEL2_L1C\", \"keywords\": [\"esa\", \"sentinel\", \"sentinel2\", \"s2\"], \"license\": \"proprietary\", \"links\": [\"https://earth.esa.int/web/sentinel/user-guides/sentinel-2-msi/product-types/level-1c\", \"https://creodias.eu/data-offer\"], \"providers\": [], \"stac_extensions\": [\"datacube\"], \"stac_version\": \"0.9.0\", \"title\": \"Sentinel-2 L1C\"}, {\"description\": \"SENTINEL-2 is a wide-swath, high-resolution, multi-spectral imaging mission, supporting Copernicus Land Monitoring studies, including the monitoring of vegetation, soil and water cover, as well as observation of inland waterways and coastal areas. The SENTINEL-2 Multispectral Instrument (MSI) samples 13 spectral bands: four bands at 10 metres, six bands at 20 metres and three bands at 60 metres spatial resolution.\\n The level 2A data is atmospherically corrected using Sen2Cor.\", \"extent\": {\"spatial\": {\"bbox\": [[-180, -90, 180, 90]]}, \"temporal\": {\"interval\": [[\"2015-07-04T00:00:00Z\", null]]}}, \"id\": \"SENTINEL2_L2A\", \"keywords\": [\"esa\", \"sentinel\", \"sentinel2\", \"s2\"], \"license\": \"proprietary\", \"links\": [\"https://earth.esa.int/web/sentinel/user-guides/sentinel-2-msi/product-types/level-2a\", \"https://creodias.eu/data-offer\"], \"providers\": [], \"stac_extensions\": [\"datacube\"], \"stac_version\": \"0.9.0\", \"title\": \"Sentinel-2 L2A\"}, {\"description\": \"This Vegetation Indices product includes the Normalized Difference Vegetation Index (NDVI), the normalized differece of near inrared and red reflectances, the Plant Phenology Index, the Fraction of Absorbed Photosynthetically Active Radiation (FAPAR) and the Leaf Area Index (LAI). These indices are derived from the Copernicus Sentinel-2 satellite observations and updated daily.\", \"extent\": {\"spatial\": {\"bbox\": [[-25, 27, 45, 72]]}, \"temporal\": {\"interval\": [[\"2017-01-01T00:00:00Z\", \"2023-12-31T00:00:00Z\"]]}}, \"id\": \"EEA_VEGETATION_INDICES\", \"keywords\": [\"NDVI\", \"LAI\", \"FAPAR\", \"PPI\", \"index\", \"land\", \"vegetation\", \"plant\", \"phenology\", \"growing season\", \"productivity\", \"sentinel\"], \"license\": \"proprietary\", \"links\": [{\"href\": \"https://land.copernicus.eu/pan-european/biophysical-parameters/high-resolution-vegetation-phenology-and-productivity\", \"rel\": \"alternate\"}], \"stac_extensions\": [\"datacube\"], \"stac_version\": \"0.9.0\", \"title\": \"Sentinel-2 derived vegetation indices (NDVI, FAPAR, PPI and LAI) at 10m resolution over European mainland. These indices are provided by the High Resolution Vegetation Phenology and Productivity service, part of the Copernicus land monitoring service.\"}, {\"description\": \"The WorldCover product will be released per 3 x 3 degree tile.\", \"extent\": {\"spatial\": {\"bbox\": [[-180.0, -90.0, 180.0, 90.0]]}, \"temporal\": {\"interval\": [[\"2020-01-01T00:00:00Z\", \"2020-12-31T00:00:00Z\"]]}}, \"id\": \"ESA_WORLDCOVER_10M_2020_V1\", \"keywords\": [\"VITO\", \"COPERNICUS\", \"ESA\", \"Land Cover\", \"Sentinel-1\", \"Sentinel-2\", \"Environment\", \"WorldCover\"], \"license\": \"https://creativecommons.org/licenses/by/4.0/\", \"links\": [{\"href\": \"https://creativecommons.org/licenses/by/4.0/\", \"rel\": \"license\"}, {\"href\": \"https://services.terrascope.be/catalogue/description?collection=urn:eop:VITO:ESA_WorldCover_10m_2020_V1\", \"rel\": \"alternate\", \"title\": \"EO OpenSearch catalog\"}, {\"href\": \"https://viewer.esa-worldcover.org/worldcover\", \"rel\": \"alternate\", \"title\": \"Product Viewer\"}, {\"href\": \"https://services.terrascope.be/wmts/v2\", \"rel\": \"wmts\", \"wmts:layer\": \"WORLDCOVER_2020_MAP\"}], \"providers\": [{\"name\": \"VITO\", \"roles\": [\"producer\"], \"url\": \"https://remotesensing.vito.be/\"}], \"stac_extensions\": [\"datacube\"], \"stac_version\": \"0.9.0\", \"title\": \"ESA WorldCover products 10 meter COG format  \"}, {\"description\": \"The Sentinel-1 mission provides data from a dual-polarization C-band Synthetic Aperture Radar (SAR) instrument. This collection includes the S1 Ground Range Detected (GRD) scenes, processed to a calibrated, ortho-corrected product. This collection is compatible with \\\"sar_backscatter\\\" and \\\"ard_normalized_radar_backscatter\\\" processes.\", \"extent\": {\"spatial\": {\"bbox\": [[-180, -56, 180, 83]]}, \"temporal\": {\"interval\": [[\"2015-07-06T00:00:00Z\", null]]}}, \"id\": \"SENTINEL1_GRD\", \"license\": \"free\", \"links\": [], \"providers\": [], \"stac_extensions\": [\"datacube\"], \"stac_version\": \"0.9.0\", \"title\": \"Sentinel-1 SAR GRD: C-band Synthetic Aperture Radar Ground Range Detected.\"}]}</script>\n",
       "    </openeo-collections>\n",
       "    "
      ],
      "text/plain": [
       "[{'description': 'SENTINEL-2 is a wide-swath, high-resolution, multi-spectral imaging mission, supporting Copernicus Land Monitoring studies, including the monitoring of vegetation, soil and water cover, as well as observation of inland waterways and coastal areas. The SENTINEL-2 Multispectral Instrument (MSI) samples 13 spectral bands: four bands at 10 metres, six bands at 20 metres and three bands at 60 metres spatial resolution.',\n",
       "  'extent': {'spatial': {'bbox': [[-180, -90, 180, 90]]},\n",
       "   'temporal': {'interval': [['2015-07-04T00:00:00Z', None]]}},\n",
       "  'id': 'SENTINEL2_L1C',\n",
       "  'keywords': ['esa', 'sentinel', 'sentinel2', 's2'],\n",
       "  'license': 'proprietary',\n",
       "  'links': ['https://earth.esa.int/web/sentinel/user-guides/sentinel-2-msi/product-types/level-1c',\n",
       "   'https://creodias.eu/data-offer'],\n",
       "  'providers': [],\n",
       "  'stac_extensions': ['datacube'],\n",
       "  'stac_version': '0.9.0',\n",
       "  'title': 'Sentinel-2 L1C'},\n",
       " {'description': 'SENTINEL-2 is a wide-swath, high-resolution, multi-spectral imaging mission, supporting Copernicus Land Monitoring studies, including the monitoring of vegetation, soil and water cover, as well as observation of inland waterways and coastal areas. The SENTINEL-2 Multispectral Instrument (MSI) samples 13 spectral bands: four bands at 10 metres, six bands at 20 metres and three bands at 60 metres spatial resolution.\\n The level 2A data is atmospherically corrected using Sen2Cor.',\n",
       "  'extent': {'spatial': {'bbox': [[-180, -90, 180, 90]]},\n",
       "   'temporal': {'interval': [['2015-07-04T00:00:00Z', None]]}},\n",
       "  'id': 'SENTINEL2_L2A',\n",
       "  'keywords': ['esa', 'sentinel', 'sentinel2', 's2'],\n",
       "  'license': 'proprietary',\n",
       "  'links': ['https://earth.esa.int/web/sentinel/user-guides/sentinel-2-msi/product-types/level-2a',\n",
       "   'https://creodias.eu/data-offer'],\n",
       "  'providers': [],\n",
       "  'stac_extensions': ['datacube'],\n",
       "  'stac_version': '0.9.0',\n",
       "  'title': 'Sentinel-2 L2A'},\n",
       " {'description': 'This Vegetation Indices product includes the Normalized Difference Vegetation Index (NDVI), the normalized differece of near inrared and red reflectances, the Plant Phenology Index, the Fraction of Absorbed Photosynthetically Active Radiation (FAPAR) and the Leaf Area Index (LAI). These indices are derived from the Copernicus Sentinel-2 satellite observations and updated daily.',\n",
       "  'extent': {'spatial': {'bbox': [[-25, 27, 45, 72]]},\n",
       "   'temporal': {'interval': [['2017-01-01T00:00:00Z',\n",
       "      '2023-12-31T00:00:00Z']]}},\n",
       "  'id': 'EEA_VEGETATION_INDICES',\n",
       "  'keywords': ['NDVI',\n",
       "   'LAI',\n",
       "   'FAPAR',\n",
       "   'PPI',\n",
       "   'index',\n",
       "   'land',\n",
       "   'vegetation',\n",
       "   'plant',\n",
       "   'phenology',\n",
       "   'growing season',\n",
       "   'productivity',\n",
       "   'sentinel'],\n",
       "  'license': 'proprietary',\n",
       "  'links': [{'href': 'https://land.copernicus.eu/pan-european/biophysical-parameters/high-resolution-vegetation-phenology-and-productivity',\n",
       "    'rel': 'alternate'}],\n",
       "  'stac_extensions': ['datacube'],\n",
       "  'stac_version': '0.9.0',\n",
       "  'title': 'Sentinel-2 derived vegetation indices (NDVI, FAPAR, PPI and LAI) at 10m resolution over European mainland. These indices are provided by the High Resolution Vegetation Phenology and Productivity service, part of the Copernicus land monitoring service.'},\n",
       " {'description': 'The WorldCover product will be released per 3 x 3 degree tile.',\n",
       "  'extent': {'spatial': {'bbox': [[-180.0, -90.0, 180.0, 90.0]]},\n",
       "   'temporal': {'interval': [['2020-01-01T00:00:00Z',\n",
       "      '2020-12-31T00:00:00Z']]}},\n",
       "  'id': 'ESA_WORLDCOVER_10M_2020_V1',\n",
       "  'keywords': ['VITO',\n",
       "   'COPERNICUS',\n",
       "   'ESA',\n",
       "   'Land Cover',\n",
       "   'Sentinel-1',\n",
       "   'Sentinel-2',\n",
       "   'Environment',\n",
       "   'WorldCover'],\n",
       "  'license': 'https://creativecommons.org/licenses/by/4.0/',\n",
       "  'links': [{'href': 'https://creativecommons.org/licenses/by/4.0/',\n",
       "    'rel': 'license'},\n",
       "   {'href': 'https://services.terrascope.be/catalogue/description?collection=urn:eop:VITO:ESA_WorldCover_10m_2020_V1',\n",
       "    'rel': 'alternate',\n",
       "    'title': 'EO OpenSearch catalog'},\n",
       "   {'href': 'https://viewer.esa-worldcover.org/worldcover',\n",
       "    'rel': 'alternate',\n",
       "    'title': 'Product Viewer'},\n",
       "   {'href': 'https://services.terrascope.be/wmts/v2',\n",
       "    'rel': 'wmts',\n",
       "    'wmts:layer': 'WORLDCOVER_2020_MAP'}],\n",
       "  'providers': [{'name': 'VITO',\n",
       "    'roles': ['producer'],\n",
       "    'url': 'https://remotesensing.vito.be/'}],\n",
       "  'stac_extensions': ['datacube'],\n",
       "  'stac_version': '0.9.0',\n",
       "  'title': 'ESA WorldCover products 10 meter COG format  '},\n",
       " {'description': 'The Sentinel-1 mission provides data from a dual-polarization C-band Synthetic Aperture Radar (SAR) instrument. This collection includes the S1 Ground Range Detected (GRD) scenes, processed to a calibrated, ortho-corrected product. This collection is compatible with \"sar_backscatter\" and \"ard_normalized_radar_backscatter\" processes.',\n",
       "  'extent': {'spatial': {'bbox': [[-180, -56, 180, 83]]},\n",
       "   'temporal': {'interval': [['2015-07-06T00:00:00Z', None]]}},\n",
       "  'id': 'SENTINEL1_GRD',\n",
       "  'license': 'free',\n",
       "  'links': [],\n",
       "  'providers': [],\n",
       "  'stac_extensions': ['datacube'],\n",
       "  'stac_version': '0.9.0',\n",
       "  'title': 'Sentinel-1 SAR GRD: C-band Synthetic Aperture Radar Ground Range Detected.'}]"
      ]
     },
     "execution_count": 5,
     "metadata": {},
     "output_type": "execute_result"
    }
   ],
   "source": [
    "con.list_collections()\n"
   ]
  },
  {
   "cell_type": "code",
   "execution_count": 7,
   "metadata": {},
   "outputs": [
    {
     "ename": "OpenEoApiError",
     "evalue": "[500] Internal: Server error: Unable to construct dataset dimensions. GDAL Error Code: 4 (ref: r-9332f0e3c3034df0b9624e25ebcc9fba)",
     "output_type": "error",
     "traceback": [
      "\u001b[0;31m---------------------------------------------------------------------------\u001b[0m",
      "\u001b[0;31mOpenEoApiError\u001b[0m                            Traceback (most recent call last)",
      "\u001b[0;32m/tmp/ipykernel_51/755969978.py\u001b[0m in \u001b[0;36m<module>\u001b[0;34m\u001b[0m\n\u001b[1;32m     15\u001b[0m \u001b[0;31m# s2 = s2.reduce_dimension(dimension=\"t\", reducer=\"median\")\u001b[0m\u001b[0;34m\u001b[0m\u001b[0;34m\u001b[0m\u001b[0m\n\u001b[1;32m     16\u001b[0m \u001b[0;34m\u001b[0m\u001b[0m\n\u001b[0;32m---> 17\u001b[0;31m \u001b[0ms2\u001b[0m\u001b[0;34m.\u001b[0m\u001b[0mdownload\u001b[0m\u001b[0;34m(\u001b[0m\u001b[0mout_dir\u001b[0m \u001b[0;34m/\u001b[0m \u001b[0;34m\"s2.tiff\"\u001b[0m\u001b[0;34m,\u001b[0m \u001b[0mformat\u001b[0m\u001b[0;34m=\u001b[0m\u001b[0;34m\"GTiff\"\u001b[0m\u001b[0;34m)\u001b[0m\u001b[0;34m\u001b[0m\u001b[0;34m\u001b[0m\u001b[0m\n\u001b[0m\u001b[1;32m     18\u001b[0m \u001b[0;31m# s2.download(out_dir / \"s2.json\", format=\"JSON\")\u001b[0m\u001b[0;34m\u001b[0m\u001b[0;34m\u001b[0m\u001b[0m\n\u001b[1;32m     19\u001b[0m \u001b[0;31m# s2.download(out_dir / \"s2.png\", format=\"png\")\u001b[0m\u001b[0;34m\u001b[0m\u001b[0;34m\u001b[0m\u001b[0m\n",
      "\u001b[0;32m/opt/conda/lib/python3.9/site-packages/openeo/rest/datacube.py\u001b[0m in \u001b[0;36mdownload\u001b[0;34m(self, outputfile, format, options)\u001b[0m\n\u001b[1;32m   1611\u001b[0m         \u001b[0;31m# TODO: only add `save_result` node when there is none yet?\u001b[0m\u001b[0;34m\u001b[0m\u001b[0;34m\u001b[0m\u001b[0m\n\u001b[1;32m   1612\u001b[0m         \u001b[0mcube\u001b[0m \u001b[0;34m=\u001b[0m \u001b[0mself\u001b[0m\u001b[0;34m.\u001b[0m\u001b[0msave_result\u001b[0m\u001b[0;34m(\u001b[0m\u001b[0mformat\u001b[0m\u001b[0;34m=\u001b[0m\u001b[0mformat\u001b[0m\u001b[0;34m,\u001b[0m \u001b[0moptions\u001b[0m\u001b[0;34m=\u001b[0m\u001b[0moptions\u001b[0m\u001b[0;34m)\u001b[0m\u001b[0;34m\u001b[0m\u001b[0;34m\u001b[0m\u001b[0m\n\u001b[0;32m-> 1613\u001b[0;31m         \u001b[0;32mreturn\u001b[0m \u001b[0mself\u001b[0m\u001b[0;34m.\u001b[0m\u001b[0m_connection\u001b[0m\u001b[0;34m.\u001b[0m\u001b[0mdownload\u001b[0m\u001b[0;34m(\u001b[0m\u001b[0mcube\u001b[0m\u001b[0;34m.\u001b[0m\u001b[0mflat_graph\u001b[0m\u001b[0;34m(\u001b[0m\u001b[0;34m)\u001b[0m\u001b[0;34m,\u001b[0m \u001b[0moutputfile\u001b[0m\u001b[0;34m)\u001b[0m\u001b[0;34m\u001b[0m\u001b[0;34m\u001b[0m\u001b[0m\n\u001b[0m\u001b[1;32m   1614\u001b[0m \u001b[0;34m\u001b[0m\u001b[0m\n\u001b[1;32m   1615\u001b[0m     \u001b[0;32mdef\u001b[0m \u001b[0mvalidate\u001b[0m\u001b[0;34m(\u001b[0m\u001b[0mself\u001b[0m\u001b[0;34m)\u001b[0m \u001b[0;34m->\u001b[0m \u001b[0mList\u001b[0m\u001b[0;34m[\u001b[0m\u001b[0mdict\u001b[0m\u001b[0;34m]\u001b[0m\u001b[0;34m:\u001b[0m\u001b[0;34m\u001b[0m\u001b[0;34m\u001b[0m\u001b[0m\n",
      "\u001b[0;32m/opt/conda/lib/python3.9/site-packages/openeo/rest/connection.py\u001b[0m in \u001b[0;36mdownload\u001b[0;34m(self, graph, outputfile, timeout)\u001b[0m\n\u001b[1;32m   1098\u001b[0m         \"\"\"\n\u001b[1;32m   1099\u001b[0m         \u001b[0mrequest\u001b[0m \u001b[0;34m=\u001b[0m \u001b[0mself\u001b[0m\u001b[0;34m.\u001b[0m\u001b[0m_build_request_with_process_graph\u001b[0m\u001b[0;34m(\u001b[0m\u001b[0mprocess_graph\u001b[0m\u001b[0;34m=\u001b[0m\u001b[0mgraph\u001b[0m\u001b[0;34m)\u001b[0m\u001b[0;34m\u001b[0m\u001b[0;34m\u001b[0m\u001b[0m\n\u001b[0;32m-> 1100\u001b[0;31m         \u001b[0mresponse\u001b[0m \u001b[0;34m=\u001b[0m \u001b[0mself\u001b[0m\u001b[0;34m.\u001b[0m\u001b[0mpost\u001b[0m\u001b[0;34m(\u001b[0m\u001b[0mpath\u001b[0m\u001b[0;34m=\u001b[0m\u001b[0;34m\"/result\"\u001b[0m\u001b[0;34m,\u001b[0m \u001b[0mjson\u001b[0m\u001b[0;34m=\u001b[0m\u001b[0mrequest\u001b[0m\u001b[0;34m,\u001b[0m \u001b[0mexpected_status\u001b[0m\u001b[0;34m=\u001b[0m\u001b[0;36m200\u001b[0m\u001b[0;34m,\u001b[0m \u001b[0mstream\u001b[0m\u001b[0;34m=\u001b[0m\u001b[0;32mTrue\u001b[0m\u001b[0;34m,\u001b[0m \u001b[0mtimeout\u001b[0m\u001b[0;34m=\u001b[0m\u001b[0mtimeout\u001b[0m\u001b[0;34m)\u001b[0m\u001b[0;34m\u001b[0m\u001b[0;34m\u001b[0m\u001b[0m\n\u001b[0m\u001b[1;32m   1101\u001b[0m \u001b[0;34m\u001b[0m\u001b[0m\n\u001b[1;32m   1102\u001b[0m         \u001b[0;32mif\u001b[0m \u001b[0moutputfile\u001b[0m \u001b[0;32mis\u001b[0m \u001b[0;32mnot\u001b[0m \u001b[0;32mNone\u001b[0m\u001b[0;34m:\u001b[0m\u001b[0;34m\u001b[0m\u001b[0;34m\u001b[0m\u001b[0m\n",
      "\u001b[0;32m/opt/conda/lib/python3.9/site-packages/openeo/rest/connection.py\u001b[0m in \u001b[0;36mpost\u001b[0;34m(self, path, json, **kwargs)\u001b[0m\n\u001b[1;32m    171\u001b[0m         \u001b[0;34m:\u001b[0m\u001b[0;32mreturn\u001b[0m\u001b[0;34m:\u001b[0m \u001b[0mresponse\u001b[0m\u001b[0;34m:\u001b[0m \u001b[0mResponse\u001b[0m\u001b[0;34m\u001b[0m\u001b[0;34m\u001b[0m\u001b[0m\n\u001b[1;32m    172\u001b[0m         \"\"\"\n\u001b[0;32m--> 173\u001b[0;31m         \u001b[0;32mreturn\u001b[0m \u001b[0mself\u001b[0m\u001b[0;34m.\u001b[0m\u001b[0mrequest\u001b[0m\u001b[0;34m(\u001b[0m\u001b[0;34m\"post\"\u001b[0m\u001b[0;34m,\u001b[0m \u001b[0mpath\u001b[0m\u001b[0;34m=\u001b[0m\u001b[0mpath\u001b[0m\u001b[0;34m,\u001b[0m \u001b[0mjson\u001b[0m\u001b[0;34m=\u001b[0m\u001b[0mjson\u001b[0m\u001b[0;34m,\u001b[0m \u001b[0mallow_redirects\u001b[0m\u001b[0;34m=\u001b[0m\u001b[0;32mFalse\u001b[0m\u001b[0;34m,\u001b[0m \u001b[0;34m**\u001b[0m\u001b[0mkwargs\u001b[0m\u001b[0;34m)\u001b[0m\u001b[0;34m\u001b[0m\u001b[0;34m\u001b[0m\u001b[0m\n\u001b[0m\u001b[1;32m    174\u001b[0m \u001b[0;34m\u001b[0m\u001b[0m\n\u001b[1;32m    175\u001b[0m     \u001b[0;32mdef\u001b[0m \u001b[0mdelete\u001b[0m\u001b[0;34m(\u001b[0m\u001b[0mself\u001b[0m\u001b[0;34m,\u001b[0m \u001b[0mpath\u001b[0m\u001b[0;34m,\u001b[0m \u001b[0;34m**\u001b[0m\u001b[0mkwargs\u001b[0m\u001b[0;34m)\u001b[0m \u001b[0;34m->\u001b[0m \u001b[0mResponse\u001b[0m\u001b[0;34m:\u001b[0m\u001b[0;34m\u001b[0m\u001b[0;34m\u001b[0m\u001b[0m\n",
      "\u001b[0;32m/opt/conda/lib/python3.9/site-packages/openeo/rest/connection.py\u001b[0m in \u001b[0;36mrequest\u001b[0;34m(self, method, path, headers, auth, check_error, expected_status, **kwargs)\u001b[0m\n\u001b[1;32m    596\u001b[0m         \u001b[0;32mtry\u001b[0m\u001b[0;34m:\u001b[0m\u001b[0;34m\u001b[0m\u001b[0;34m\u001b[0m\u001b[0m\n\u001b[1;32m    597\u001b[0m             \u001b[0;31m# Initial request attempt\u001b[0m\u001b[0;34m\u001b[0m\u001b[0;34m\u001b[0m\u001b[0m\n\u001b[0;32m--> 598\u001b[0;31m             \u001b[0;32mreturn\u001b[0m \u001b[0m_request\u001b[0m\u001b[0;34m(\u001b[0m\u001b[0;34m)\u001b[0m\u001b[0;34m\u001b[0m\u001b[0;34m\u001b[0m\u001b[0m\n\u001b[0m\u001b[1;32m    599\u001b[0m         \u001b[0;32mexcept\u001b[0m \u001b[0mOpenEoApiError\u001b[0m \u001b[0;32mas\u001b[0m \u001b[0mapi_exc\u001b[0m\u001b[0;34m:\u001b[0m\u001b[0;34m\u001b[0m\u001b[0;34m\u001b[0m\u001b[0m\n\u001b[1;32m    600\u001b[0m             \u001b[0;32mif\u001b[0m \u001b[0mapi_exc\u001b[0m\u001b[0;34m.\u001b[0m\u001b[0mhttp_status_code\u001b[0m \u001b[0;34m==\u001b[0m \u001b[0;36m403\u001b[0m \u001b[0;32mand\u001b[0m \u001b[0mapi_exc\u001b[0m\u001b[0;34m.\u001b[0m\u001b[0mcode\u001b[0m \u001b[0;34m==\u001b[0m \u001b[0;34m\"TokenInvalid\"\u001b[0m\u001b[0;34m:\u001b[0m\u001b[0;34m\u001b[0m\u001b[0;34m\u001b[0m\u001b[0m\n",
      "\u001b[0;32m/opt/conda/lib/python3.9/site-packages/openeo/rest/connection.py\u001b[0m in \u001b[0;36m_request\u001b[0;34m()\u001b[0m\n\u001b[1;32m    589\u001b[0m         \u001b[0;31m# Do request, but with retry when access token has expired and refresh token is available.\u001b[0m\u001b[0;34m\u001b[0m\u001b[0;34m\u001b[0m\u001b[0m\n\u001b[1;32m    590\u001b[0m         \u001b[0;32mdef\u001b[0m \u001b[0m_request\u001b[0m\u001b[0;34m(\u001b[0m\u001b[0;34m)\u001b[0m\u001b[0;34m:\u001b[0m\u001b[0;34m\u001b[0m\u001b[0;34m\u001b[0m\u001b[0m\n\u001b[0;32m--> 591\u001b[0;31m             return super(Connection, self).request(\n\u001b[0m\u001b[1;32m    592\u001b[0m                 \u001b[0mmethod\u001b[0m\u001b[0;34m=\u001b[0m\u001b[0mmethod\u001b[0m\u001b[0;34m,\u001b[0m \u001b[0mpath\u001b[0m\u001b[0;34m=\u001b[0m\u001b[0mpath\u001b[0m\u001b[0;34m,\u001b[0m \u001b[0mheaders\u001b[0m\u001b[0;34m=\u001b[0m\u001b[0mheaders\u001b[0m\u001b[0;34m,\u001b[0m \u001b[0mauth\u001b[0m\u001b[0;34m=\u001b[0m\u001b[0mauth\u001b[0m\u001b[0;34m,\u001b[0m\u001b[0;34m\u001b[0m\u001b[0;34m\u001b[0m\u001b[0m\n\u001b[1;32m    593\u001b[0m                 \u001b[0mcheck_error\u001b[0m\u001b[0;34m=\u001b[0m\u001b[0mcheck_error\u001b[0m\u001b[0;34m,\u001b[0m \u001b[0mexpected_status\u001b[0m\u001b[0;34m=\u001b[0m\u001b[0mexpected_status\u001b[0m\u001b[0;34m,\u001b[0m \u001b[0;34m**\u001b[0m\u001b[0mkwargs\u001b[0m\u001b[0;34m,\u001b[0m\u001b[0;34m\u001b[0m\u001b[0;34m\u001b[0m\u001b[0m\n",
      "\u001b[0;32m/opt/conda/lib/python3.9/site-packages/openeo/rest/connection.py\u001b[0m in \u001b[0;36mrequest\u001b[0;34m(self, method, path, headers, auth, check_error, expected_status, **kwargs)\u001b[0m\n\u001b[1;32m    119\u001b[0m         \u001b[0mexpected_status\u001b[0m \u001b[0;34m=\u001b[0m \u001b[0mensure_list\u001b[0m\u001b[0;34m(\u001b[0m\u001b[0mexpected_status\u001b[0m\u001b[0;34m)\u001b[0m \u001b[0;32mif\u001b[0m \u001b[0mexpected_status\u001b[0m \u001b[0;32melse\u001b[0m \u001b[0;34m[\u001b[0m\u001b[0;34m]\u001b[0m\u001b[0;34m\u001b[0m\u001b[0;34m\u001b[0m\u001b[0m\n\u001b[1;32m    120\u001b[0m         \u001b[0;32mif\u001b[0m \u001b[0mcheck_error\u001b[0m \u001b[0;32mand\u001b[0m \u001b[0mstatus\u001b[0m \u001b[0;34m>=\u001b[0m \u001b[0;36m400\u001b[0m \u001b[0;32mand\u001b[0m \u001b[0mstatus\u001b[0m \u001b[0;32mnot\u001b[0m \u001b[0;32min\u001b[0m \u001b[0mexpected_status\u001b[0m\u001b[0;34m:\u001b[0m\u001b[0;34m\u001b[0m\u001b[0;34m\u001b[0m\u001b[0m\n\u001b[0;32m--> 121\u001b[0;31m             \u001b[0mself\u001b[0m\u001b[0;34m.\u001b[0m\u001b[0m_raise_api_error\u001b[0m\u001b[0;34m(\u001b[0m\u001b[0mresp\u001b[0m\u001b[0;34m)\u001b[0m\u001b[0;34m\u001b[0m\u001b[0;34m\u001b[0m\u001b[0m\n\u001b[0m\u001b[1;32m    122\u001b[0m         \u001b[0;32mif\u001b[0m \u001b[0mexpected_status\u001b[0m \u001b[0;32mand\u001b[0m \u001b[0mstatus\u001b[0m \u001b[0;32mnot\u001b[0m \u001b[0;32min\u001b[0m \u001b[0mexpected_status\u001b[0m\u001b[0;34m:\u001b[0m\u001b[0;34m\u001b[0m\u001b[0;34m\u001b[0m\u001b[0m\n\u001b[1;32m    123\u001b[0m             raise OpenEoRestError(\"Got status code {s!r} for `{m} {p}` (expected {e!r})\".format(\n",
      "\u001b[0;32m/opt/conda/lib/python3.9/site-packages/openeo/rest/connection.py\u001b[0m in \u001b[0;36m_raise_api_error\u001b[0;34m(self, response)\u001b[0m\n\u001b[1;32m    150\u001b[0m             \u001b[0;32melse\u001b[0m\u001b[0;34m:\u001b[0m\u001b[0;34m\u001b[0m\u001b[0;34m\u001b[0m\u001b[0m\n\u001b[1;32m    151\u001b[0m                 \u001b[0mexception\u001b[0m \u001b[0;34m=\u001b[0m \u001b[0mOpenEoApiError\u001b[0m\u001b[0;34m(\u001b[0m\u001b[0mhttp_status_code\u001b[0m\u001b[0;34m=\u001b[0m\u001b[0mstatus_code\u001b[0m\u001b[0;34m,\u001b[0m \u001b[0mmessage\u001b[0m\u001b[0;34m=\u001b[0m\u001b[0mtext\u001b[0m\u001b[0;34m)\u001b[0m\u001b[0;34m\u001b[0m\u001b[0;34m\u001b[0m\u001b[0m\n\u001b[0;32m--> 152\u001b[0;31m         \u001b[0;32mraise\u001b[0m \u001b[0mexception\u001b[0m\u001b[0;34m\u001b[0m\u001b[0;34m\u001b[0m\u001b[0m\n\u001b[0m\u001b[1;32m    153\u001b[0m \u001b[0;34m\u001b[0m\u001b[0m\n\u001b[1;32m    154\u001b[0m     \u001b[0;32mdef\u001b[0m \u001b[0mget\u001b[0m\u001b[0;34m(\u001b[0m\u001b[0mself\u001b[0m\u001b[0;34m,\u001b[0m \u001b[0mpath\u001b[0m\u001b[0;34m,\u001b[0m \u001b[0mstream\u001b[0m\u001b[0;34m=\u001b[0m\u001b[0;32mFalse\u001b[0m\u001b[0;34m,\u001b[0m \u001b[0mauth\u001b[0m\u001b[0;34m:\u001b[0m \u001b[0mAuthBase\u001b[0m \u001b[0;34m=\u001b[0m \u001b[0;32mNone\u001b[0m\u001b[0;34m,\u001b[0m \u001b[0;34m**\u001b[0m\u001b[0mkwargs\u001b[0m\u001b[0;34m)\u001b[0m \u001b[0;34m->\u001b[0m \u001b[0mResponse\u001b[0m\u001b[0;34m:\u001b[0m\u001b[0;34m\u001b[0m\u001b[0;34m\u001b[0m\u001b[0m\n",
      "\u001b[0;31mOpenEoApiError\u001b[0m: [500] Internal: Server error: Unable to construct dataset dimensions. GDAL Error Code: 4 (ref: r-9332f0e3c3034df0b9624e25ebcc9fba)"
     ]
    }
   ],
   "source": [
    "bbox = {\n",
    "    'west': 5.017099,\n",
    "    'south': 51.219585,\n",
    "    'east': 5.023468,\n",
    "    'north': 51.223363,\n",
    "    'crs': 'EPSG:4326',\n",
    "}\n",
    "\n",
    "s2: DataCube = con.load_collection(\"SENTINEL2_L1C\",\n",
    "    spatial_extent=bbox,\n",
    "    temporal_extent=[\"2019-01-01\", \"2019-04-01\"],\n",
    "    bands=[\"B02\", \"B03\", \"B04\"]).rename_labels(dimension=\"bands\", target=[\"R\", \"G\", \"B\"], source=[\"B04\", \"B03\", \"B02\"]\n",
    ")\n",
    "\n",
    "# s2 = s2.reduce_dimension(dimension=\"t\", reducer=\"median\")\n",
    "\n",
    "s2.download(out_dir / \"s2.tiff\", format=\"GTiff\")\n",
    "# s2.download(out_dir / \"s2.json\", format=\"JSON\")\n",
    "# s2.download(out_dir / \"s2.png\", format=\"png\")\n",
    "\n",
    "s2.graph\n",
    "    "
   ]
  },
  {
   "cell_type": "code",
   "execution_count": null,
   "metadata": {},
   "outputs": [],
   "source": [
    "import rasterio\n",
    "\n",
    "dataset: rasterio.DatasetReader = rasterio.open(out_dir / \"s2.tiff\")\n",
    "plt.imshow(dataset.read(1))\n",
    "plt.show()"
   ]
  },
  {
   "cell_type": "code",
   "execution_count": null,
   "metadata": {},
   "outputs": [],
   "source": []
  }
 ],
 "metadata": {
  "kernelspec": {
   "display_name": "Python 3 (ipykernel)",
   "language": "python",
   "name": "python3"
  },
  "language_info": {
   "codemirror_mode": {
    "name": "ipython",
    "version": 3
   },
   "file_extension": ".py",
   "mimetype": "text/x-python",
   "name": "python",
   "nbconvert_exporter": "python",
   "pygments_lexer": "ipython3",
   "version": "3.9.7"
  },
  "vscode": {
   "interpreter": {
    "hash": "b5db018f99eddd09c2389e2817a7ada82a85c10fa5b7a1b7a82be81de946581c"
   }
  }
 },
 "nbformat": 4,
 "nbformat_minor": 4
}
