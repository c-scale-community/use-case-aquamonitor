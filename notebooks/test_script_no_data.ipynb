{
 "cells": [
  {
   "cell_type": "code",
   "execution_count": null,
   "metadata": {},
   "outputs": [],
   "source": [
    "# imports\n",
    "from openeo import connect, Connection\n",
    "from openeo.rest.datacube import DataCube\n",
    "from typing import List, Dict, Tuple, Union\n",
    "import pathlib\n",
    "import rasterio\n",
    "import numpy as np\n",
    "import matplotlib.pyplot as plt\n",
    "import xarray as xr\n",
    "\n",
    "%matplotlib inline"
   ]
  },
  {
   "cell_type": "code",
   "execution_count": null,
   "metadata": {},
   "outputs": [],
   "source": [
    "DEFAULT_FIGSIZE = (9, 6)\n",
    "\n",
    "def show_tiff(filename:str, figsize=DEFAULT_FIGSIZE, vmin=None, vmax=None, rescale_percentile=97, add_colorbar=False):\n",
    "    \"\"\"Small helper to load a geotiff and visualize it\"\"\"\n",
    "    with rasterio.open(filename) as ds:\n",
    "        data = ds.read()\n",
    "\n",
    "    fig, ax = plt.subplots(figsize=figsize)\n",
    "\n",
    "    if len(data.shape) == 3:\n",
    "        if data.max() > 500:\n",
    "            p = np.percentile(data, rescale_percentile, axis=[1,2])\n",
    "            data = data / p[:, None, None]\n",
    "            data = np.clip(data, 0, 1)        \n",
    "        data = np.moveaxis(data, 0, 2)\n",
    "        if data.shape[2]<3:\n",
    "            data = data[:,:,0]\n",
    "        \n",
    "    im = ax.imshow(data, vmin=vmin, vmax=vmax,cmap=\"RdYlGn\")\n",
    "    if add_colorbar:\n",
    "        fig.colorbar(im, ax=ax, fraction=0.05)\n",
    "\n",
    "out_dir = pathlib.Path(\"output\")\n",
    "out_dir.mkdir(parents=True, exist_ok=True)"
   ]
  },
  {
   "cell_type": "code",
   "execution_count": null,
   "metadata": {},
   "outputs": [],
   "source": [
    "# Connect to VITO backend\n",
    "vito_url: str = \"https://openeo.vito.be/openeo/1.0\"\n",
    "vito_creo_url: str = \"https://openeo.creo.vito.be\"\n",
    "ee_url: str = \"https://earthengine.openeo.org\"\n",
    "incd_url: str = \"https://openeo.a.incd.pt/openeo/\"\n",
    "\n",
    "# con: Connection = connect(ee_url).authenticate_basic(username=\"group1\", password=\"test123\")\n",
    "# con: Connection = connect(vito_creo_url)\n",
    "# con.authenticate_oidc(provider_id=\"egi\")\n",
    "con: Connection = connect(incd_url).authenticate_oidc(provider_id=\"egi\")"
   ]
  },
  {
   "cell_type": "code",
   "execution_count": null,
   "metadata": {},
   "outputs": [],
   "source": [
    "cube: DataCube = con.datacube_from_process(\"mean\", data=[2, 3, 5, 8])\n",
    "cube.execute()"
   ]
  },
  {
   "cell_type": "code",
   "execution_count": null,
   "metadata": {},
   "outputs": [],
   "source": [
    "con.list_collections()\n"
   ]
  },
  {
   "cell_type": "code",
   "execution_count": null,
   "metadata": {},
   "outputs": [],
   "source": [
    "bbox = {\n",
    "    'west': 5.017099,\n",
    "    'south': 51.219585,\n",
    "    'east': 5.023468,\n",
    "    'north': 51.223363,\n",
    "    'crs': 'EPSG:4326',\n",
    "}\n",
    "\n",
    "s2: DataCube = con.load_collection(\"SENTINEL2_L1C\",\n",
    "    spatial_extent=bbox,\n",
    "    temporal_extent=[\"2017-01-01\", \"2017-04-01\"],\n",
    "    bands=[\"B02\", \"B03\", \"B04\"]).rename_labels(dimension=\"bands\", target=[\"R\", \"G\", \"B\"], source=[\"B04\", \"B03\", \"B02\"]\n",
    ")\n",
    "\n",
    "# s2 = s2.reduce_dimension(dimension=\"t\", reducer=\"median\")\n",
    "\n",
    "s2.download(out_dir / \"s2.tiff\", format=\"GTiff\")\n",
    "# s2.download(out_dir / \"s2.json\", format=\"JSON\")\n",
    "# s2.download(out_dir / \"s2.png\", format=\"png\")\n",
    "\n",
    "s2.graph\n",
    "    "
   ]
  },
  {
   "cell_type": "code",
   "execution_count": null,
   "metadata": {},
   "outputs": [],
   "source": [
    "import rasterio\n",
    "\n",
    "dataset: rasterio.DatasetReader = rasterio.open(out_dir / \"s2.tiff\")\n",
    "plt.imshow(dataset.read(1))\n",
    "plt.show()"
   ]
  },
  {
   "cell_type": "code",
   "execution_count": null,
   "metadata": {},
   "outputs": [],
   "source": []
  }
 ],
 "metadata": {
  "interpreter": {
   "hash": "308f0e6c08d7a2e18fdd0dc9d195c5dd386da1d83ed1220cd08f0a2e89ee0788"
  },
  "kernelspec": {
   "display_name": "Python 3 (ipykernel)",
   "language": "python",
   "name": "python3"
  },
  "language_info": {
   "codemirror_mode": {
    "name": "ipython",
    "version": 3
   },
   "file_extension": ".py",
   "mimetype": "text/x-python",
   "name": "python",
   "nbconvert_exporter": "python",
   "pygments_lexer": "ipython3",
   "version": "3.9.7"
  }
 },
 "nbformat": 4,
 "nbformat_minor": 4
}
