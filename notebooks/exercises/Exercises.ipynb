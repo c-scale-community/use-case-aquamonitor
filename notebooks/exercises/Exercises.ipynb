{
 "cells": [
  {
   "cell_type": "markdown",
   "id": "cacbd19e-b592-4d95-9285-d92bddf9bb14",
   "metadata": {},
   "source": [
    "# OpenEO course Exercises\n",
    "\n",
    "This notebook contains the course exercises. The notebook Answers.ipynb contains the answers to the questions."
   ]
  },
  {
   "cell_type": "code",
   "execution_count": null,
   "id": "7add1917-5a67-4527-8cd5-8b067d496458",
   "metadata": {},
   "outputs": [],
   "source": [
    "! pip install geojson"
   ]
  },
  {
   "cell_type": "code",
   "execution_count": null,
   "id": "cfe267a1-9053-4882-8996-ddd5f68c8cd9",
   "metadata": {},
   "outputs": [],
   "source": [
    "# imports\n",
    "import math\n",
    "\n",
    "import geojson\n",
    "from openeo import connect, Connection\n",
    "from openeo.rest.datacube import DataCube\n",
    "from typing import List, Dict, Tuple, Union\n",
    "from pathlib import Path\n",
    "import xarray as xr"
   ]
  },
  {
   "cell_type": "markdown",
   "id": "b783686a-31e2-4316-9cec-3d560a2e0e34",
   "metadata": {},
   "source": [
    "## Exercise 1:\n",
    "Connect to OpenEO platform backend, authenticate and load a small (!) area of interest of the sentinel 2 collection. Use the level 2 A product. Let's take 500x500 pixels as a maximum (~5km x ~5km for sentinel 2). The OpenEO platform currently supports mostly Europe for sentinel 2 data, so please use an area in Europe.\n",
    "For the area of interest, check https://aqua-monitor.appspot.com/, to find areas with surface-water changes (make sure you select change inbetween 2020 and 2022!)\n",
    "Load the given `band_names` and rename them to `band_names`."
   ]
  },
  {
   "cell_type": "code",
   "execution_count": null,
   "id": "d20e2c3b-86c9-4414-a44a-dfd8713252ca",
   "metadata": {},
   "outputs": [],
   "source": [
    "# Connect to OpenEO backend and authenticate\n",
    "openeo_platform_url = \"openeo.cloud\"\n",
    "\n",
    "start = \"2020-01-01\"\n",
    "stop = \"2022-01-01\"\n",
    "\n",
    "band_names = [\"blue\", \"green\", \"red\", \"nir\", \"swir\"]\n",
    "\n",
    "# python client docs: https://open-eo.github.io/openeo-python-client/\n",
    "\n",
    "# login and authenticate\n",
    "\n",
    "# expore collections"
   ]
  },
  {
   "cell_type": "code",
   "execution_count": null,
   "id": "97374167-4060-4981-9b1b-e9a78e027f23",
   "metadata": {},
   "outputs": [],
   "source": [
    "# take area of interest (e.g. geojson.io) and load collection\n"
   ]
  },
  {
   "cell_type": "markdown",
   "id": "c37d7e1b-9b4d-4415-a6aa-c3cb0b397b91",
   "metadata": {},
   "source": [
    "# Exercise 2\n",
    "Using the time bucketed, DataCube, calculate the NDWI for surface water $$NDWI = \\frac{\\rho_{green} - \\rho_{nir}}{\\rho_{green} + \\rho_{nir}}$$\n",
    "Then execute using a batch job and create a simple visualization of a single image (t = 0)"
   ]
  },
  {
   "cell_type": "code",
   "execution_count": null,
   "id": "1bcb00b9-c0e5-436a-889a-b72318dab827",
   "metadata": {},
   "outputs": [],
   "source": [
    "from pathlib import Path\n",
    "from datetime import timedelta\n",
    "import pandas as pd"
   ]
  },
  {
   "cell_type": "code",
   "execution_count": null,
   "id": "139cdc41-4066-433a-9501-dad8a005e48c",
   "metadata": {},
   "outputs": [],
   "source": [
    "# Create time intervals\n",
    "dr = pd.date_range(start=start, end=stop, freq=f\"YS\")\n",
    "t_intervals = [[str(d), str(dr[i+1])] for i, d in enumerate(dr[:-1])]\n",
    "t_intervals"
   ]
  },
  {
   "cell_type": "code",
   "execution_count": null,
   "id": "11236186-05fc-42ae-aa8b-794e16678915",
   "metadata": {},
   "outputs": [],
   "source": [
    "# call datacube from previous step dc_in\n",
    "t_bucketed_dc: DataCube = dc_in \\\n",
    "    .aggregate_temporal(\n",
    "        intervals=t_intervals,\n",
    "        reducer=lambda data: processes.quantiles(data, probabilities=[0.2]),\n",
    "        labels=[t_int[0] for t_int in t_intervals]\n",
    "    )"
   ]
  },
  {
   "cell_type": "code",
   "execution_count": null,
   "id": "05ceb4bb-0401-4766-9a3b-779a8efff915",
   "metadata": {},
   "outputs": [],
   "source": [
    "# calculate NDWI\n",
    "\n",
    "# Execute batch job\n",
    "\n",
    "# download results\n",
    "\n",
    "# visualize results"
   ]
  },
  {
   "cell_type": "markdown",
   "id": "f2d42d42-8473-4141-b5c0-9649da850823",
   "metadata": {},
   "source": [
    "## Exercise 3\n",
    "\n",
    "Mask the outcomes of the NDWI datacube where the NDWI values through time are smaller than 0.5"
   ]
  },
  {
   "cell_type": "code",
   "execution_count": null,
   "id": "167fb7c2-a13a-4895-8958-da4cb449544b",
   "metadata": {},
   "outputs": [],
   "source": [
    "# get minimum of NDWI\n",
    "\n",
    "# mask values smaller than -0.05\n",
    "\n"
   ]
  },
  {
   "cell_type": "markdown",
   "id": "c8d996ff-63a2-4539-92b5-e926d45f18ee",
   "metadata": {},
   "source": [
    "# Try out the notebook\n",
    "\n",
    "Using the original notebook, change the area to your area of interest and run the algorithm. Make sure you recalculate (recalculate = True)."
   ]
  }
 ],
 "metadata": {
  "kernelspec": {
   "display_name": "Python 3 (ipykernel)",
   "language": "python",
   "name": "python3"
  },
  "language_info": {
   "codemirror_mode": {
    "name": "ipython",
    "version": 3
   },
   "file_extension": ".py",
   "mimetype": "text/x-python",
   "name": "python",
   "nbconvert_exporter": "python",
   "pygments_lexer": "ipython3",
   "version": "3.9.7"
  }
 },
 "nbformat": 4,
 "nbformat_minor": 5
}
